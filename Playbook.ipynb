{
 "cells": [
  {
   "cell_type": "markdown",
   "metadata": {},
   "source": [
    "### Interactive Playbook for iderare_pheno library"
   ]
  },
  {
   "cell_type": "markdown",
   "metadata": {},
   "source": [
    "#### Part 1 - Standardizing the terminology\n",
    "\n",
    "Converter for the iderare_pheno library. This library is used to generate phenotypes for the iderare dataset. This notebook is an interactive playbook that demonstrates how to use the library."
   ]
  },
  {
   "cell_type": "code",
   "execution_count": 1,
   "metadata": {},
   "outputs": [],
   "source": [
    "from iderare_pheno.converter import term2omim, term2orpha, term2hpo, batchconvert"
   ]
  },
  {
   "cell_type": "code",
   "execution_count": 2,
   "metadata": {},
   "outputs": [
    {
     "name": "stdout",
     "output_type": "stream",
     "text": [
      "Trying to parse ORPHA from SNOMEDCT SNOMEDCT:190794006\n",
      "Parsing of SNOMEDCT:190794006 successful with result of : 1  ORPHA code :  ORPHA:355 \n",
      "\n",
      "Orpha List for SNOMEDCT:190794006 ['ORPHA:355']\n"
     ]
    }
   ],
   "source": [
    "# Example of parsing SNOMEDCT to ORPHA code(s) (term2orpha), it will return a list of ORPHA code(s)\n",
    "snomed_code = 'SNOMEDCT:190794006'\n",
    "term2orpha_res = term2orpha(snomed_code)\n",
    "print('Orpha List for {}'.format(snomed_code), term2orpha_res)"
   ]
  },
  {
   "cell_type": "code",
   "execution_count": 3,
   "metadata": {},
   "outputs": [
    {
     "name": "stdout",
     "output_type": "stream",
     "text": [
      "Trying to parse HPO from terminology LOINC:1751-7|L\n",
      "Parsing of LOINC:1751-7|L successful with result of : ['HP:0003073'] \n",
      "\n",
      "Trying to parse HPO from terminology SNOMEDCT:75183008\n",
      "Parsing of SNOMEDCT:75183008 successful with result of : 2  HPO code :  HP:0001410, HP:0002910 \n",
      "\n",
      "HPO List result after converting LOINC and SNOMEDCT to HPO are ['HP:0003073', 'HP:0001410', 'HP:0002910']\n"
     ]
    }
   ],
   "source": [
    "# Example of converting LOINC / SNOMEDCT to HPO (term2hpo), it will return a list of HPO code(s)\n",
    "loinc_code = 'LOINC:1751-7|L'\n",
    "snomed_code = 'SNOMEDCT:75183008'\n",
    "\n",
    "term2hpo_res = term2hpo(loinc_code) + term2hpo(snomed_code)\n",
    "print('HPO List result after converting LOINC and SNOMEDCT to HPO are', term2hpo_res)"
   ]
  },
  {
   "cell_type": "code",
   "execution_count": 4,
   "metadata": {},
   "outputs": [
    {
     "name": "stdout",
     "output_type": "stream",
     "text": [
      "Trying to parse OMIM from terminology ICD-10:E74.0\n",
      "Parsing of ICD-10:E74.0 successful with result of : 27  OMIM code :  OMIM:232200, OMIM:232500, OMIM:261670, OMIM:612933, OMIM:232800, OMIM:306000, OMIM:613027, OMIM:263570, OMIM:227810, OMIM:240600, OMIM:232300, OMIM:232400, OMIM:232600, OMIM:232240, OMIM:232220, OMIM:616199, OMIM:611556, OMIM:613507, OMIM:300559, OMIM:300653, OMIM:300257, OMIM:614128, OMIM:615895, OMIM:232700, OMIM:612932, OMIM:611881, OMIM:261750 \n",
      "\n",
      "Trying to parse OMIM from terminology ORPHA:355\n",
      "Parsing of ORPHA:355 successful with result of : 6  OMIM code :  OMIM:608013, OMIM:610539, OMIM:230900, OMIM:230800, OMIM:231000, OMIM:231005 \n",
      "\n",
      "OMIM List result after converting ICD10 and ORPHA to OMIM are ['OMIM:232200', 'OMIM:232500', 'OMIM:261670', 'OMIM:612933', 'OMIM:232800', 'OMIM:306000', 'OMIM:613027', 'OMIM:263570', 'OMIM:227810', 'OMIM:240600', 'OMIM:232300', 'OMIM:232400', 'OMIM:232600', 'OMIM:232240', 'OMIM:232220', 'OMIM:616199', 'OMIM:611556', 'OMIM:613507', 'OMIM:300559', 'OMIM:300653', 'OMIM:300257', 'OMIM:614128', 'OMIM:615895', 'OMIM:232700', 'OMIM:612932', 'OMIM:611881', 'OMIM:261750', 'OMIM:608013', 'OMIM:610539', 'OMIM:230900', 'OMIM:230800', 'OMIM:231000', 'OMIM:231005']\n"
     ]
    }
   ],
   "source": [
    "# Example of converting ICD10 and ORPHA to OMIM (term2omim), it will return a list of OMIM code(s)\n",
    "icd10_code = 'ICD-10:E74.0'\n",
    "orpha_code = 'ORPHA:355'\n",
    "\n",
    "term2omim_res = term2omim(icd10_code) + term2omim(orpha_code)\n",
    "print('OMIM List result after converting ICD10 and ORPHA to OMIM are', term2omim_res)"
   ]
  },
  {
   "cell_type": "code",
   "execution_count": 5,
   "metadata": {},
   "outputs": [
    {
     "name": "stdout",
     "output_type": "stream",
     "text": [
      "Processing clinical data :  SNOMEDCT:258211005\n",
      "Trying to parse HPO from terminology SNOMEDCT:258211005\n",
      "Parsing of SNOMEDCT:258211005 successful with result of : 1  HPO code :  HP:0000007 \n",
      "\n",
      "SNOMEDCT is recognized as clinical finding, parsing to HPO and add to list\n",
      "Processing clinical data :  SNOMEDCT:36760000\n",
      "Trying to parse HPO from terminology SNOMEDCT:36760000\n",
      "Parsing of SNOMEDCT:36760000 successful with result of : 1  HPO code :  HP:0001433 \n",
      "\n",
      "SNOMEDCT is recognized as clinical finding, parsing to HPO and add to list\n",
      "Processing clinical data :  SNOMEDCT:271737000\n",
      "Trying to parse HPO from terminology SNOMEDCT:271737000\n",
      "Parsing of SNOMEDCT:271737000 successful with result of : 1  HPO code :  HP:0001903 \n",
      "\n",
      "SNOMEDCT is recognized as clinical finding, parsing to HPO and add to list\n",
      "Processing clinical data :  SNOMEDCT:389026000\n",
      "Trying to parse HPO from terminology SNOMEDCT:389026000\n",
      "Parsing of SNOMEDCT:389026000 successful with result of : 1  HPO code :  HP:0001541 \n",
      "\n",
      "SNOMEDCT is recognized as clinical finding, parsing to HPO and add to list\n",
      "Processing clinical data :  SNOMEDCT:70730006\n",
      "Trying to parse HPO from terminology SNOMEDCT:70730006\n",
      "Parsing of SNOMEDCT:70730006 successful with result of : 1  HPO code :  HP:0010972 \n",
      "\n",
      "SNOMEDCT is recognized as clinical finding, parsing to HPO and add to list\n",
      "Processing clinical data :  SNOMEDCT:127035006\n",
      "Trying to parse HPO from terminology SNOMEDCT:127035006\n",
      "Parsing of SNOMEDCT:127035006 successful with result of : 1  HPO code :  HP:0005561 \n",
      "\n",
      "SNOMEDCT is recognized as clinical finding, parsing to HPO and add to list\n",
      "Processing clinical data :  SNOMEDCT:33688009\n",
      "Trying to parse HPO from terminology SNOMEDCT:33688009\n",
      "Parsing of SNOMEDCT:33688009 successful with result of : 1  HPO code :  HP:0001396 \n",
      "\n",
      "SNOMEDCT is recognized as clinical finding, parsing to HPO and add to list\n",
      "Processing clinical data :  SNOMEDCT:75183008\n",
      "Trying to parse HPO from terminology SNOMEDCT:75183008\n",
      "Parsing of SNOMEDCT:75183008 successful with result of : 2  HPO code :  HP:0001410, HP:0002910 \n",
      "\n",
      "SNOMEDCT is recognized as clinical finding, parsing to HPO and add to list\n",
      "Processing clinical data :  SNOMEDCT:59927004\n",
      "Trying to parse HPO from terminology SNOMEDCT:59927004\n",
      "Parsing of SNOMEDCT:59927004 successful with result of : 1  HPO code :  HP:0001399 \n",
      "\n",
      "SNOMEDCT is recognized as clinical finding, parsing to HPO and add to list\n",
      "Processing clinical data :  SNOMEDCT:312894000\n",
      "Trying to parse HPO from terminology SNOMEDCT:312894000\n",
      "Parsing of SNOMEDCT:312894000 successful with result of : 1  HPO code :  HP:0000938 \n",
      "\n",
      "SNOMEDCT is recognized as clinical finding, parsing to HPO and add to list\n",
      "Processing clinical data :  SNOMEDCT:56786000\n",
      "Trying to parse HPO from terminology SNOMEDCT:56786000\n",
      "Parsing of SNOMEDCT:56786000 successful with result of : 1  HPO code :  HP:0001642 \n",
      "\n",
      "SNOMEDCT is recognized as clinical finding, parsing to HPO and add to list\n",
      "Processing clinical data :  SNOMEDCT:1388004\n",
      "Trying to parse HPO from terminology SNOMEDCT:1388004\n",
      "Parsing of SNOMEDCT:1388004 successful with result of : 1  HPO code :  HP:0200114 \n",
      "\n",
      "SNOMEDCT is recognized as clinical finding, parsing to HPO and add to list\n",
      "Processing clinical data :  LOINC:1751-7|L\n",
      "Trying to parse HPO from terminology LOINC:1751-7|L\n",
      "Parsing of LOINC:1751-7|L successful with result of : ['HP:0003073'] \n",
      "\n",
      "Processing clinical data :  LOINC:2085-9|L\n",
      "Trying to parse HPO from terminology LOINC:2085-9|L\n",
      "Parsing of LOINC:2085-9|L successful with result of : ['HP:0003233'] \n",
      "\n",
      "Processing clinical data :  LOINC:777-3|L\n",
      "Trying to parse HPO from terminology LOINC:777-3|L\n",
      "Parsing of LOINC:777-3|L successful with result of : ['HP:0001873'] \n",
      "\n",
      "Processing clinical data :  LOINC:2519-7|H\n",
      "Trying to parse HPO from terminology LOINC:2519-7|H\n",
      "Parsing of LOINC:2519-7|H successful with result of : ['HP:0002151'] \n",
      "\n",
      "Processing clinical data :  LOINC:1742-6|H\n",
      "Trying to parse HPO from terminology LOINC:1742-6|H\n",
      "Parsing of LOINC:1742-6|H successful with result of : ['HP:0031964'] \n",
      "\n",
      "Processing clinical data :  LOINC:1920-8|H\n",
      "Trying to parse HPO from terminology LOINC:1920-8|H\n",
      "Parsing of LOINC:1920-8|H successful with result of : ['HP:0031956'] \n",
      "\n",
      "Processing clinical data :  HP:0002366\n",
      "Processing clinical data :  HP:0006568\n",
      "Processing clinical data :  HP:0004333\n",
      "Processing clinical data :  HP:0001531\n",
      "Processing clinical data :  SNOMEDCT:65959000\n",
      "Trying to parse HPO from terminology SNOMEDCT:65959000\n",
      "This SNOMEDCT code is not a clinical finding mapped with HPO, please check the SNOMED to OMIM for diagnosis mapping.\n",
      "Sugggestion : It is possible that you mean any of this code:  ?\n",
      "\n",
      "Trying to recognize SNOMEDCT as clinical disorder, parsing to ORPHA and respective OMIM format\n",
      "Trying to parse ORPHA from SNOMEDCT SNOMEDCT:65959000\n",
      "Parsing of SNOMEDCT:65959000 successful with result of : 1  ORPHA code :  ORPHA:848 \n",
      "\n",
      "Trying to parse OMIM from terminology ORPHA:848\n",
      "Parsing of ORPHA:848 successful with result of : 2  OMIM code :  OMIM:613985, OMIM:603902 \n",
      "\n",
      "Processing clinical data :  SNOMEDCT:190794006\n",
      "Trying to parse HPO from terminology SNOMEDCT:190794006\n",
      "This SNOMEDCT code is not a clinical finding mapped with HPO, please check the SNOMED to OMIM for diagnosis mapping.\n",
      "Sugggestion : It is possible that you mean any of this code:  ?\n",
      "\n",
      "Trying to recognize SNOMEDCT as clinical disorder, parsing to ORPHA and respective OMIM format\n",
      "Trying to parse ORPHA from SNOMEDCT SNOMEDCT:190794006\n",
      "Parsing of SNOMEDCT:190794006 successful with result of : 1  ORPHA code :  ORPHA:355 \n",
      "\n",
      "Trying to parse OMIM from terminology ORPHA:355\n",
      "Parsing of ORPHA:355 successful with result of : 6  OMIM code :  OMIM:608013, OMIM:610539, OMIM:230900, OMIM:230800, OMIM:231000, OMIM:231005 \n",
      "\n",
      "Processing clinical data :  SNOMEDCT:66751000\n",
      "Trying to parse HPO from terminology SNOMEDCT:66751000\n",
      "This SNOMEDCT code is not a clinical finding mapped with HPO, please check the SNOMED to OMIM for diagnosis mapping.\n",
      "Sugggestion : It is possible that you mean any of this code:  ?\n",
      "\n",
      "Trying to recognize SNOMEDCT as clinical disorder, parsing to ORPHA and respective OMIM format\n",
      "Trying to parse ORPHA from SNOMEDCT SNOMEDCT:66751000\n",
      "Parsing of SNOMEDCT:66751000 successful with result of : 1  ORPHA code :  ORPHA:646 \n",
      "\n",
      "Trying to parse OMIM from terminology ORPHA:646\n",
      "Parsing of ORPHA:646 successful with result of : 2  OMIM code :  OMIM:257220, OMIM:607625 \n",
      "\n",
      "Processing clinical data :  ICD-10:E74.0\n",
      "Trying to parse OMIM from terminology ICD-10:E74.0\n",
      "Parsing of ICD-10:E74.0 successful with result of : 27  OMIM code :  OMIM:232200, OMIM:232500, OMIM:261670, OMIM:612933, OMIM:232800, OMIM:306000, OMIM:613027, OMIM:263570, OMIM:227810, OMIM:240600, OMIM:232300, OMIM:232400, OMIM:232600, OMIM:232240, OMIM:232220, OMIM:616199, OMIM:611556, OMIM:613507, OMIM:300559, OMIM:300653, OMIM:300257, OMIM:614128, OMIM:615895, OMIM:232700, OMIM:612932, OMIM:611881, OMIM:261750 \n",
      "\n",
      "HPO List result after converting mixed codes to HPO are ['HP:0000007', 'HP:0001433', 'HP:0001903', 'HP:0001541', 'HP:0010972', 'HP:0005561', 'HP:0001396', 'HP:0001410', 'HP:0002910', 'HP:0001399', 'HP:0000938', 'HP:0001642', 'HP:0200114', 'HP:0003073', 'HP:0003233', 'HP:0001873', 'HP:0002151', 'HP:0031964', 'HP:0031956', 'HP:0002366', 'HP:0006568', 'HP:0004333', 'HP:0001531']\n",
      "OMIM List result after converting mixed codes to OMIM are ['OMIM:613985', 'OMIM:603902', 'OMIM:608013', 'OMIM:610539', 'OMIM:230900', 'OMIM:230800', 'OMIM:231000', 'OMIM:231005', 'OMIM:257220', 'OMIM:607625', 'OMIM:232200', 'OMIM:232500', 'OMIM:261670', 'OMIM:612933', 'OMIM:232800', 'OMIM:306000', 'OMIM:613027', 'OMIM:263570', 'OMIM:227810', 'OMIM:240600', 'OMIM:232300', 'OMIM:232400', 'OMIM:232600', 'OMIM:232240', 'OMIM:232220', 'OMIM:616199', 'OMIM:611556', 'OMIM:613507', 'OMIM:300559', 'OMIM:300653', 'OMIM:300257', 'OMIM:614128', 'OMIM:615895', 'OMIM:232700', 'OMIM:612932', 'OMIM:611881', 'OMIM:261750']\n"
     ]
    }
   ],
   "source": [
    "# Example of automated parsing of mixed codes of SNOMEDCT, LOINC, ICD10, OMIM, HPO, ORPHA to OMIM and HPO (batchconvert)\n",
    "clinical_data_list = ['SNOMEDCT:258211005', 'SNOMEDCT:36760000', 'SNOMEDCT:271737000', 'SNOMEDCT:389026000', 'SNOMEDCT:70730006', 'SNOMEDCT:127035006', 'SNOMEDCT:33688009', 'SNOMEDCT:75183008', 'SNOMEDCT:59927004', 'SNOMEDCT:312894000', 'SNOMEDCT:56786000', 'SNOMEDCT:1388004', 'LOINC:1751-7|L', 'LOINC:2085-9|L', 'LOINC:777-3|L', 'LOINC:2519-7|H', 'LOINC:1742-6|H', 'LOINC:1920-8|H', 'HP:0002366', 'HP:0006568', 'HP:0004333', 'HP:0001531', 'SNOMEDCT:65959000', 'SNOMEDCT:190794006', 'SNOMEDCT:66751000', 'ICD-10:E74.0']\n",
    "\n",
    "# Batch convert will return 2 list array\n",
    "hpo_sets, diagnosis_sets = batchconvert(clinical_data_list)\n",
    "\n",
    "print('HPO List result after converting mixed codes to HPO are', hpo_sets)\n",
    "print('OMIM List result after converting mixed codes to OMIM are', diagnosis_sets)"
   ]
  },
  {
   "cell_type": "markdown",
   "metadata": {},
   "source": [
    "#### Part 2 - Similarity and ontology linkage analysis between the phenotype and given differential diagnoses\n",
    "\n",
    "This part will cover how to use the similarity and ontology linkage analysis between phenotype and differential diagnoses"
   ]
  },
  {
   "cell_type": "code",
   "execution_count": null,
   "metadata": {},
   "outputs": [],
   "source": []
  },
  {
   "cell_type": "markdown",
   "metadata": {},
   "source": [
    "#### Part 3 - Getting the recommendation of diagnoses based on the similarity and ontology linkage analysis between the phenotype provided and OMIM databases\n",
    "\n",
    "This part will cover how to use the gene and phenotype differential diagnoses set generator to generate the OMIM-based differential diagnoses set based on the phenotype provided"
   ]
  },
  {
   "cell_type": "markdown",
   "metadata": {},
   "source": []
  },
  {
   "cell_type": "markdown",
   "metadata": {},
   "source": [
    "#### Part 4 - Other utilities\n",
    "\n",
    "This utilities function is the helper function used to transform the data into the  object / sequelized format of hpo3, and other file conversion function"
   ]
  },
  {
   "cell_type": "markdown",
   "metadata": {},
   "source": []
  }
 ],
 "metadata": {
  "kernelspec": {
   "display_name": "iderare-pheno",
   "language": "python",
   "name": "python3"
  },
  "language_info": {
   "codemirror_mode": {
    "name": "ipython",
    "version": 3
   },
   "file_extension": ".py",
   "mimetype": "text/x-python",
   "name": "python",
   "nbconvert_exporter": "python",
   "pygments_lexer": "ipython3",
   "version": "3.8.19"
  }
 },
 "nbformat": 4,
 "nbformat_minor": 2
}
