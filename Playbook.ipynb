{
 "cells": [
  {
   "cell_type": "markdown",
   "metadata": {},
   "source": [
    "### Interactive Playbook for iderare_pheno library"
   ]
  },
  {
   "cell_type": "markdown",
   "metadata": {},
   "source": [
    "#### Part 1 - Standardizing the terminology\n",
    "\n",
    "Converter for the iderare_pheno library. This library is used to generate phenotypes for the iderare dataset. This notebook is an interactive playbook that demonstrates how to use the library."
   ]
  },
  {
   "cell_type": "code",
   "execution_count": null,
   "metadata": {},
   "outputs": [],
   "source": [
    "from iderare_pheno.converter import term2omim, term2orpha, term2hpo, batchconvert"
   ]
  },
  {
   "cell_type": "code",
   "execution_count": null,
   "metadata": {},
   "outputs": [],
   "source": [
    "# Example of parsing SNOMEDCT to ORPHA code(s) (term2orpha), it will return a list of ORPHA code(s)\n",
    "snomed_code = 'SNOMEDCT:190794006'\n",
    "term2orpha_res = term2orpha(snomed_code)\n",
    "print('Orpha List for {}'.format(snomed_code), term2orpha_res)"
   ]
  },
  {
   "cell_type": "code",
   "execution_count": null,
   "metadata": {},
   "outputs": [],
   "source": [
    "# Example of converting LOINC / SNOMEDCT to HPO (term2hpo), it will return a list of HPO code(s)\n",
    "loinc_code = 'LOINC:1751-7|L'\n",
    "snomed_code = 'SNOMEDCT:75183008'\n",
    "\n",
    "term2hpo_res = term2hpo(loinc_code) + term2hpo(snomed_code)\n",
    "print('HPO List result after converting LOINC and SNOMEDCT to HPO are', term2hpo_res)"
   ]
  },
  {
   "cell_type": "code",
   "execution_count": null,
   "metadata": {},
   "outputs": [],
   "source": [
    "# Example of converting ICD10 and ORPHA to OMIM (term2omim), it will return a list of OMIM code(s)\n",
    "icd10_code = 'ICD-10:E74.0'\n",
    "orpha_code = 'ORPHA:355'\n",
    "\n",
    "term2omim_res = term2omim(icd10_code) + term2omim(orpha_code)\n",
    "print('OMIM List result after converting ICD10 and ORPHA to OMIM are', term2omim_res)"
   ]
  },
  {
   "cell_type": "code",
   "execution_count": null,
   "metadata": {},
   "outputs": [],
   "source": [
    "# Example of automated parsing of mixed codes of SNOMEDCT, LOINC, ICD10, OMIM, HPO, ORPHA to OMIM and HPO (batchconvert)\n",
    "clinical_data_list = ['SNOMEDCT:258211005', 'SNOMEDCT:36760000', 'SNOMEDCT:271737000', 'SNOMEDCT:389026000', 'SNOMEDCT:70730006', 'SNOMEDCT:127035006', 'SNOMEDCT:33688009', 'SNOMEDCT:75183008', 'SNOMEDCT:59927004', 'SNOMEDCT:312894000', 'SNOMEDCT:56786000', 'SNOMEDCT:1388004', 'LOINC:1751-7|L', 'LOINC:2085-9|L', 'LOINC:777-3|L', 'LOINC:2519-7|H', 'LOINC:1742-6|H', 'LOINC:1920-8|H', 'HP:0002366', 'HP:0006568', 'HP:0004333', 'HP:0001531', 'SNOMEDCT:65959000', 'SNOMEDCT:190794006', 'SNOMEDCT:66751000', 'ICD-10:E74.0']\n",
    "\n",
    "# Batch convert will return 2 list array\n",
    "hpo_sets, diagnosis_sets = batchconvert(clinical_data_list)\n",
    "\n",
    "print('HPO List result after converting mixed codes to HPO are', hpo_sets)\n",
    "print('OMIM List result after converting mixed codes to OMIM are', diagnosis_sets)"
   ]
  },
  {
   "cell_type": "markdown",
   "metadata": {},
   "source": [
    "#### Part 2 - Similarity and ontology linkage analysis between the phenotype and given differential diagnoses\n",
    "\n",
    "This part will cover how to use the similarity and ontology linkage analysis between phenotype and differential diagnoses.\n",
    "\n",
    "\n",
    "Given the ```diagnosis_sets```, and ```hpo_sets``` as input, the similarity and ontology linkage analysis will be performed. The similarity and ontology linkage analysis will be performed using the ```iderare_pheno.simrec``` (similarity & recommendation) library. \n",
    "\n",
    "In this part, it will resulted in ```full``` diagnosis_sets linkage and similarity analysis, and ```filtered``` diagnosis_sets linkage and similarity analysis. The ```filtered``` diagnosis_sets linkage and similarity analysis will only show the diagnosis_sets that have similarity score **greater than preset threshold** or **n-top diagnoses** if there are no disease passing the minimum threshold.\n",
    "\n",
    "The similarity score is calculated using ```graph``` method with ```bma``` (best-match average) strategy."
   ]
  },
  {
   "cell_type": "code",
   "execution_count": null,
   "metadata": {},
   "outputs": [],
   "source": [
    "from iderare_pheno.simrec import hpo2omim_similarity"
   ]
  },
  {
   "cell_type": "code",
   "execution_count": null,
   "metadata": {},
   "outputs": [],
   "source": [
    "## For similarity first of all, set up the threshold and n-top differential diagnoses, you would like to analyzed\n",
    "thr = 0.5 # Filter option 1 : example of threshold of 0.5 similarity\n",
    "diffx = 100 # Filter option 2 / fallback if there are none passing threshold : example of top-100 differential diagnoses"
   ]
  },
  {
   "cell_type": "code",
   "execution_count": null,
   "metadata": {},
   "outputs": [],
   "source": [
    "## hpo2omim_similarity will return 3 object :\n",
    "# 1. first (list) will be similarity score \n",
    "# 2. second (array) will contain the linkage, disease name, and omim disease ID of all differential diagnoses, sorted desc by similarity score\n",
    "# 3. third (array) will contain the linkage, disease name, and omim disease ID of filtered diagnoses, sorted desc by similarity score\n",
    "\n",
    "s_sim, [lnk_all, sr_dis_name, sr_dis_id], [lnk_thr, sr_dis_name_thr, sr_dis_id_thr] = hpo2omim_similarity(diagnosis_sets, hpo_sets, threshold=thr, differential=diffx)"
   ]
  },
  {
   "cell_type": "markdown",
   "metadata": {},
   "source": [
    "#### Part 3 - Getting the recommendation of diagnoses based on the similarity and ontology linkage analysis between the phenotype provided and OMIM databases\n",
    "\n",
    "This part will cover how to use the gene and phenotype differential diagnoses set generator to generate the OMIM-based differential diagnoses set based on the phenotype provided"
   ]
  },
  {
   "cell_type": "markdown",
   "metadata": {},
   "source": []
  },
  {
   "cell_type": "markdown",
   "metadata": {},
   "source": [
    "#### Part 4 - Other utilities\n",
    "\n",
    "This utilities function is the helper function used to transform the data into the  object / sequelized format of hpo3, and other file conversion function"
   ]
  },
  {
   "cell_type": "markdown",
   "metadata": {},
   "source": []
  }
 ],
 "metadata": {
  "kernelspec": {
   "display_name": "iderare-pheno",
   "language": "python",
   "name": "python3"
  },
  "language_info": {
   "codemirror_mode": {
    "name": "ipython",
    "version": 3
   },
   "file_extension": ".py",
   "mimetype": "text/x-python",
   "name": "python",
   "nbconvert_exporter": "python",
   "pygments_lexer": "ipython3",
   "version": "3.8.19"
  }
 },
 "nbformat": 4,
 "nbformat_minor": 2
}
