{
 "cells": [
  {
   "cell_type": "code",
   "execution_count": 1,
   "metadata": {},
   "outputs": [],
   "source": [
    "from iderare_pheno.converter import term2omim, term2orpha, term2hpo, batchconvert"
   ]
  },
  {
   "cell_type": "code",
   "execution_count": 5,
   "metadata": {},
   "outputs": [
    {
     "name": "stdout",
     "output_type": "stream",
     "text": [
      "Trying to parse ORPHA from SNOMEDCT SNOMEDCT:1388004\n",
      "This SNOMEDCT code is not a clinical finding mapped with ORPHA, please check the SNOMED to ORPHA for diagnosis mapping.\n",
      "Sugggestion : It is possible that you mean any of this code:  ?\n",
      "\n",
      "Orpha List for SNOMEDCT:1388004 []\n"
     ]
    }
   ],
   "source": [
    "# Example of parsing SNOMEDCT to ORPHA(s) using the iderare_pheno package\n",
    "snomed_code = 'SNOMEDCT:75183008'\n",
    "orpha_list = term2orpha(snomed_code)\n",
    "print('Orpha List for {}'.format(snomed_code), orpha_list)"
   ]
  },
  {
   "cell_type": "code",
   "execution_count": 3,
   "metadata": {},
   "outputs": [
    {
     "name": "stdout",
     "output_type": "stream",
     "text": [
      "Trying to parse HPO from terminology LOINC:1751-7|L\n",
      "Parsing of LOINC:1751-7|L successful with result of : ['HP:0003073'] \n",
      "\n"
     ]
    },
    {
     "data": {
      "text/plain": [
       "['HP:0003073']"
      ]
     },
     "execution_count": 3,
     "metadata": {},
     "output_type": "execute_result"
    }
   ],
   "source": [
    "# Example of converting LOINC to HPO\n",
    "term2hpo('LOINC:1751-7|L')"
   ]
  }
 ],
 "metadata": {
  "kernelspec": {
   "display_name": "iderare-pheno",
   "language": "python",
   "name": "python3"
  },
  "language_info": {
   "codemirror_mode": {
    "name": "ipython",
    "version": 3
   },
   "file_extension": ".py",
   "mimetype": "text/x-python",
   "name": "python",
   "nbconvert_exporter": "python",
   "pygments_lexer": "ipython3",
   "version": "3.8.19"
  }
 },
 "nbformat": 4,
 "nbformat_minor": 2
}
